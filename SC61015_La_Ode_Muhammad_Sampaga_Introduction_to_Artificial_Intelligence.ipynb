{
  "nbformat": 4,
  "nbformat_minor": 0,
  "metadata": {
    "colab": {
      "provenance": [],
      "gpuType": "T4"
    },
    "kernelspec": {
      "name": "python3",
      "display_name": "Python 3"
    },
    "language_info": {
      "name": "python"
    },
    "accelerator": "GPU"
  },
  "cells": [
    {
      "cell_type": "markdown",
      "source": [
        "Penggunaan perintah nltk.download(\"popular\") akan mengunduh koleksi data yang sering digunakan dalam NLTK, termasuk korpus teks, model statistik, dan sumber daya lainnya yang berguna untuk tugas-tugas seperti tokenisasi, stemming, analisis sentimen, dan lainnya."
      ],
      "metadata": {
        "id": "5tY3nPnzF6Te"
      }
    },
    {
      "cell_type": "code",
      "source": [
        "import nltk\n",
        "nltk.download(\"popular\")\n",
        "from nltk.tokenize import sent_tokenize, word_tokenize"
      ],
      "metadata": {
        "colab": {
          "base_uri": "https://localhost:8080/"
        },
        "id": "baD_jgteOebl",
        "outputId": "6f3886f4-cc80-468a-e828-fe9459e5804e"
      },
      "execution_count": null,
      "outputs": [
        {
          "output_type": "stream",
          "name": "stderr",
          "text": [
            "[nltk_data] Downloading collection 'popular'\n",
            "[nltk_data]    | \n",
            "[nltk_data]    | Downloading package cmudict to /root/nltk_data...\n",
            "[nltk_data]    |   Unzipping corpora/cmudict.zip.\n",
            "[nltk_data]    | Downloading package gazetteers to /root/nltk_data...\n",
            "[nltk_data]    |   Unzipping corpora/gazetteers.zip.\n",
            "[nltk_data]    | Downloading package genesis to /root/nltk_data...\n",
            "[nltk_data]    |   Unzipping corpora/genesis.zip.\n",
            "[nltk_data]    | Downloading package gutenberg to /root/nltk_data...\n",
            "[nltk_data]    |   Unzipping corpora/gutenberg.zip.\n",
            "[nltk_data]    | Downloading package inaugural to /root/nltk_data...\n",
            "[nltk_data]    |   Unzipping corpora/inaugural.zip.\n",
            "[nltk_data]    | Downloading package movie_reviews to\n",
            "[nltk_data]    |     /root/nltk_data...\n",
            "[nltk_data]    |   Unzipping corpora/movie_reviews.zip.\n",
            "[nltk_data]    | Downloading package names to /root/nltk_data...\n",
            "[nltk_data]    |   Unzipping corpora/names.zip.\n",
            "[nltk_data]    | Downloading package shakespeare to /root/nltk_data...\n",
            "[nltk_data]    |   Unzipping corpora/shakespeare.zip.\n",
            "[nltk_data]    | Downloading package stopwords to /root/nltk_data...\n",
            "[nltk_data]    |   Unzipping corpora/stopwords.zip.\n",
            "[nltk_data]    | Downloading package treebank to /root/nltk_data...\n",
            "[nltk_data]    |   Unzipping corpora/treebank.zip.\n",
            "[nltk_data]    | Downloading package twitter_samples to\n",
            "[nltk_data]    |     /root/nltk_data...\n",
            "[nltk_data]    |   Unzipping corpora/twitter_samples.zip.\n",
            "[nltk_data]    | Downloading package omw to /root/nltk_data...\n",
            "[nltk_data]    | Downloading package omw-1.4 to /root/nltk_data...\n",
            "[nltk_data]    | Downloading package wordnet to /root/nltk_data...\n",
            "[nltk_data]    | Downloading package wordnet2021 to /root/nltk_data...\n",
            "[nltk_data]    | Downloading package wordnet31 to /root/nltk_data...\n",
            "[nltk_data]    | Downloading package wordnet_ic to /root/nltk_data...\n",
            "[nltk_data]    |   Unzipping corpora/wordnet_ic.zip.\n",
            "[nltk_data]    | Downloading package words to /root/nltk_data...\n",
            "[nltk_data]    |   Unzipping corpora/words.zip.\n",
            "[nltk_data]    | Downloading package maxent_ne_chunker to\n",
            "[nltk_data]    |     /root/nltk_data...\n",
            "[nltk_data]    |   Unzipping chunkers/maxent_ne_chunker.zip.\n",
            "[nltk_data]    | Downloading package punkt to /root/nltk_data...\n",
            "[nltk_data]    |   Unzipping tokenizers/punkt.zip.\n",
            "[nltk_data]    | Downloading package snowball_data to\n",
            "[nltk_data]    |     /root/nltk_data...\n",
            "[nltk_data]    | Downloading package averaged_perceptron_tagger to\n",
            "[nltk_data]    |     /root/nltk_data...\n",
            "[nltk_data]    |   Unzipping taggers/averaged_perceptron_tagger.zip.\n",
            "[nltk_data]    | \n",
            "[nltk_data]  Done downloading collection popular\n"
          ]
        }
      ]
    },
    {
      "cell_type": "markdown",
      "source": [
        "Melakukan Import Library yang akan digunakan pada program kali ini"
      ],
      "metadata": {
        "id": "WaCjnnMfGa7_"
      }
    },
    {
      "cell_type": "code",
      "source": [
        "# Import library\n",
        "import numpy as np\n",
        "import pandas as pd\n",
        "from sklearn.feature_extraction.text import CountVectorizer\n",
        "from sklearn.naive_bayes import MultinomialNB\n",
        "from sklearn.model_selection import train_test_split, cross_val_score\n",
        "from sklearn.metrics import accuracy_score, classification_report, confusion_matrix\n",
        "from nltk.corpus import stopwords\n",
        "from nltk.tokenize import sent_tokenize, word_tokenize\n",
        "from nltk.stem import PorterStemmer\n",
        "import requests\n",
        "from bs4 import BeautifulSoup\n",
        "from nltk.corpus import stopwords\n",
        "\n",
        "import warnings\n",
        "warnings.filterwarnings(\"ignore\")"
      ],
      "metadata": {
        "id": "fpB3zuKR0xnJ"
      },
      "execution_count": null,
      "outputs": []
    },
    {
      "cell_type": "code",
      "source": [
        "from nltk.corpus import wordnet\n",
        "from nltk.stem import WordNetLemmatizer\n",
        "import numpy as np\n",
        "lemmatizer = WordNetLemmatizer() ## Create object for lemmatizer"
      ],
      "metadata": {
        "id": "0J8aKV6k1Lq0"
      },
      "execution_count": null,
      "outputs": []
    },
    {
      "cell_type": "markdown",
      "source": [
        "Memasukan tiga text ke dalam masing-masing variable yang mempunyai topik berbeda.\n",
        "\n",
        "tiga variable tersebut digunakan untuk melakukan Training data dalam Model NLP nantinya."
      ],
      "metadata": {
        "id": "xcwIKPwiGtoC"
      }
    },
    {
      "cell_type": "code",
      "source": [
        "health_text = \"The Hospital Incident Command System (HICS) has garnered increasing attention as a valuable organizational tool for effectively managing hospitals amidst the challenges posed by the COVID-19 pandemic. In our study, we focus on the implementation of HICS at the Isfahan province reference hospital, Isabn-e-Maryam, and delve into its performance during this critical period. Methodologically, we employed standard, open-ended interviews with key individuals occupying activated HICS leadership positions throughout the event to comprehensively document the actions taken during the pandemic. Additionally, we utilized a checklist derived from the job action sheets of HICS to assess performance systematically. The onset of the pandemic prompted the hospital director to revise the ICS structure, emphasizing a framework conducive to better control of COVID-19. Various strategies were considered to expand hospital inpatient capacity, thus facilitating surge capacity management. Notably, the highest performance score was observed in the realm of planning, indicating meticulous preparation and foresight in navigating the challenges posed by the pandemic. Performance in the Financial/Administration section was deemed intermediate, while other fields exhibited commendable performance levels. In our discussion, we underscore the significance of establishing HICS protocols tailored to the unique demands of the COVID-19 pandemic. Such measures not only enhance communication channels but also optimize resource allocation, ensure staff and patient safety, and sustain operational integrity. By integrating lessons learned from enduring events, hospitals can fortify their resilience and adaptability in confronting future crises effectively.\""
      ],
      "metadata": {
        "id": "2qVS5GwVy5kW"
      },
      "execution_count": null,
      "outputs": []
    },
    {
      "cell_type": "code",
      "source": [
        "sports_text = \"Liverpool successfully fended off a late surge from Tottenham Hotspur in a thrilling encounter, where Mohamed Salah showcased his brilliance with two clinical strikes to secure a vital 2-1 victory for Jurgen Klopp's side. The match, held in north London, witnessed Liverpool's resurgence in the Premier League's top-four race following recent setbacks against Nottingham Forest and Leeds United. From the outset, Liverpool demonstrated their intent, swiftly taking the lead courtesy of Salah's expertly placed finish into the bottom corner just 11 minutes into the game. Although Tottenham showed glimpses of resurgence, including an Ivan Perisic header deflected onto the post and a penalty appeal waved away, Liverpool maintained their momentum. Moments before halftime, Eric Dier's unfortunate miscue gifted Salah another opportunity, which he capitalized on with a composed chip, notching his ninth goal in eight games. As the second half commenced, Tottenham emerged with renewed vigor, epitomized by Harry Kane's sublime strike in the 70th minute, assisted by substitute Dejan Kulusevski. Despite Rodrigo Bentancur and Kane threatening with headers, Liverpool's defense held firm, denying Tottenham's late surge. The victory marked Liverpools first away win in the Premier League this season, propelling them to eighth place and closing the gap to seven points behind fourth-placed Spurs, with a game in hand.\""
      ],
      "metadata": {
        "id": "PmpQCmpJy2Gq"
      },
      "execution_count": null,
      "outputs": []
    },
    {
      "cell_type": "code",
      "source": [
        "finance_text = \"Based on Fidelity's Financial Resolutions survey, it's clear that saving more money is a top priority for many individuals, with 43% of respondents expressing their intention to work towards this goal in the new year. Building a substantial nest egg offers numerous benefits, allowing individuals to finance major expenses such as purchasing a house, going on vacation, hosting a wedding, or acquiring high-ticket items without resorting to additional debt. Moreover, having savings provides a crucial safety net for unexpected emergency expenses. For those seeking to bolster their savings in the upcoming year, initiating the process with modest contributions can be incredibly effective. Even transferring as little as $10 per week into a savings account can lay the groundwork for cultivating a habit of saving. By starting small, individuals develop the discipline necessary for consistently setting aside funds. This habit becomes particularly advantageous when supplemented by salary increases, bonuses, or gift money, as individuals are already accustomed to prioritizing savings and are more inclined to allocate these additional funds accordingly. To further streamline the savings process and mitigate the risk of procrastination, automating transfers into a savings account is highly recommended. By setting up automatic transfers, individuals eliminate the need to actively make saving decisions, thereby minimizing the temptation to divert funds for discretionary spending. Most banks offer convenient options for scheduling automatic transfers directly through their mobile applications, making it simple to establish a consistent savings routine. For those keen on accelerating the growth of their savings, opting for a high-yield savings account presents a compelling opportunity. Unlike traditional savings accounts, high-yield savings accounts, such as the Marcus by Goldman Sachs Online Savings Account or the Ally Online Savings Account, offer more attractive interest rates, enabling savers to earn higher returns on their deposits each month. This heightened interest accumulation can significantly enhance the overall growth of savings over time, providing individuals with greater financial security and flexibility in achieving their long-term goals.\""
      ],
      "metadata": {
        "id": "f9eTb1Duy9NH"
      },
      "execution_count": null,
      "outputs": []
    },
    {
      "cell_type": "markdown",
      "source": [
        "- Membuat variabel kosong bow_keys untuk menyimpan semua kata unik dari ketiga teks.\n",
        "\n",
        "- Membuat variabel kosong corpus_texts untuk menyimpan teks-teks yang telah diproses.\n",
        "\n",
        "ketiga text Sport, Health dan Finance akan dimasukan ke dalam satu variable yaitu 'texts'.\n",
        "selanjutnya akan dilakukan iterasi pada 'texts' untuk melakukan proses sebagai berikut:\n",
        "\n",
        "- Proses Tokenisasi kata-kata dalam 'texts'\n",
        "- Proses Lemetisasi (menkonversi kata-kata kedalam bentuk dasar) dan menghapus (stopwords) dalam bahasa inggris\n",
        "\n",
        "stopwords ini berisi daftar kata umum yang mempunyai fungsi tapi tidak mempunyai arti."
      ],
      "metadata": {
        "id": "6qDP0O3SI12E"
      }
    },
    {
      "cell_type": "code",
      "execution_count": null,
      "metadata": {
        "colab": {
          "base_uri": "https://localhost:8080/"
        },
        "id": "Hnseat6QyTKJ",
        "outputId": "ae94bf3a-42d1-4401-db3a-37e353e4672e"
      },
      "outputs": [
        {
          "output_type": "stream",
          "name": "stdout",
          "text": [
            "{'prioritizing', 'prompted', 'realm', 'unexpected', 'brilliance', 'thus', 'open-ended', 'Financial', ',', 'showcased', 'placed', 'Hotspur', 'preparation', 'without', 'purchasing', 'north', 'emphasizing', 'Eric', 'implementation', 'adaptability', 'make', 'System', 'unique', 'year', 'establishing', 'priority', 'halftime', 'Incident', 'Liverpool', 'directly', 'eight', 'tool', 'conducive', 'incredibly', 'observed', 'action', 'Forest', 'section', 'bottom', 'activated', 'Leeds', 'demonstrated', 'valuable', 'making', 'revise', 'little', 'document', 'study', 'seven', 'fund', 'fortify', \"'s\", 'allocation', 'per', 'inpatient', 'challenge', 'taken', 'Perisic', 'significance', 'deflected', 'director', 'resurgence', 'miscue', 'respondent', 'Unlike', 'recent', 'throughout', 'gifted', 'place', 'sustain', 'commenced', 'channel', 'saving', 'resorting', 'operational', 'contribution', 'individual', 'COVID-19', 'interest', 'goal', 'initiating', 'Moreover', 'meticulous', 'Sachs', 'saver', 'point', '(', 'procrastination', 'nest', 'attention', 'simple', 'temptation', 'strike', 'ensure', 'vital', 'heightened', 'appeal', 'Hospital', 'future', 'Harry', 'item', 'attractive', 'spending', 'corner', 'compelling', 'Tottenham', 'Jurgen', 'discussion', 'Ivan', 'demand', 'substantial', 'net', 'indicating', 'Most', 'lay', 'behind', 'survey', 'Mohamed', 'job', 'denying', 'modest', 'momentum', 'ninth', 'opting', 'return', 'Additionally', 'Although', 'convenient', 'For', 'win', 'Despite', 'Fidelity', 'In', 'Liverpools', 'derived', 'Kulusevski', 'financial', 'crisis', 'Command', 'sheet', 'gift', 'enhance', 'From', 'major', 'Account', 'establish', 'hospital', 'resource', 'HICS', 'interview', 'optimize', 'bank', 'Notably', 'starting', 'strategy', 'additional', 'waved', 'half', 'Spurs', 'lead', 'need', 'The', 'seeking', 'significantly', 'crucial', 'chip', 'time', 'propelling', 'particularly', 'option', 'capitalized', 'allowing', 'transferring', 'accordingly', 'garnered', 'Such', 'intermediate', 'game', 'penalty', 'consistently', 'finance', 'debt', 'already', 'patient', 'Bentancur', 'onto', 'composed', 'epitomized', 'first', 'high-ticket', '11', 'divert', 'enduring', 'Various', 'vigor', 'accumulation', 'successfully', 'Resolutions', 'resilience', 'emergency', 'side', 'effectively', 'offer', 'match', 'wedding', 'standard', 'rate', 'earn', 'fended', 'As', 'intention', 'overall', 'develop', 'commendable', 'integrating', 'key', 'province', 'leadership', 'away', 'discipline', ')', 'traditional', 'highly', 'house', 'enabling', 'ass', 'higher', 'unfortunate', 'emerged', 'deemed', 'cultivating', 'systematically', 'second', 'Klopp', 'pandemic', 'minimizing', 'fourth-placed', 'considered', 'bolster', 'Even', 'high-yield', '$', 'recommended', 'growth', 'discretionary', 'glimpse', 'setback', 'notching', 'surge', 'field', 'eliminate', 'money', 'egg', 'streamline', 'provides', '10', 'By', 'clinical', 'Financial/Administration', 'occupying', 'minute', 'providing', 'Methodologically', 'month', 'becomes', 'Dejan', 'inclined', 'held', 'firm', 'long-term', '43', 'witnessed', 'posed', 'groundwork', 'substitute', 'level', 'aside', 'expressing', 'Salah', 'bonus', 'Performance', 'deposit', 'staff', 'thereby', 'performance', 'work', 'confronting', 'post', 'critical', 'Moments', 'To', '2-1', 'focus', 'Ally', 'header', 'management', 'taking', 'better', 'Dier', 'habit', 'hosting', 'marked', 'greater', 'small', 'another', 'utilized', 'expand', 'also', 'advantageous', 'capacity', 'season', 'allocate', 'increase', 'numerous', 'communication', 'Rodrigo', 'London', 'necessary', 'period', 'including', 'mobile', 'actively', 'foresight', 'accelerating', 'routine', 'intent', 'application', 'delve', 'onset', 'top-four', 'renewed', 'event', 'opportunity', 'planning', 'underscore', 'hand', 'increasing', 'Savings', 'salary', 'week', 'Marcus', 'ICS', 'outset', 'lesson', 'measure', 'Nottingham', 'automating', 'maintained', 'supplemented', 'Building', 'going', 'learned', 'reference', 'managing', 'Isfahan', 'This', 'showed', 'Premier', 'structure', 'race', 'United', 'setting', 'Isabn-e-Maryam', 'victory', '70th', 'thrilling', 'many', 'secure', 'vacation', 'encounter', '.', 'sublime', 'process', 'Kane', 'safety', 'employed', 'effective', 'defense', 'League', 'Online', 'keen', 'courtesy', 'finish', 'integrity', 'expertly', 'control', 'two', 'risk', 'decision', 'security', 'navigating', 'closing', 'position', 'top', 'Goldman', 'late', 'highest', 'swiftly', 'gap', 'new', 'expense', 'score', '%', 'assisted', 'scheduling', 'protocol', 'Based', 'tailored', 'benefit', 'threatening', 'upcoming', 'accustomed', 'eighth', 'following', 'present', 'transfer', 'towards', 'flexibility', 'exhibited', 'achieving', 'account', 'organizational', 'comprehensively', 'acquiring', 'mitigate', 'facilitating', 'consistent', 'framework', 'clear', 'amidst', 'automatic', 'checklist'}\n",
            "['The Hospital Incident Command System ( HICS ) garnered increasing attention valuable organizational tool effectively managing hospital amidst challenge posed COVID-19 pandemic . In study , focus implementation HICS Isfahan province reference hospital , Isabn-e-Maryam , delve performance critical period . Methodologically , employed standard , open-ended interview key individual occupying activated HICS leadership position throughout event comprehensively document action taken pandemic . Additionally , utilized checklist derived job action sheet HICS ass performance systematically . The onset pandemic prompted hospital director revise ICS structure , emphasizing framework conducive better control COVID-19 . Various strategy considered expand hospital inpatient capacity , thus facilitating surge capacity management . Notably , highest performance score observed realm planning , indicating meticulous preparation foresight navigating challenge posed pandemic . Performance Financial/Administration section deemed intermediate , field exhibited commendable performance level . In discussion , underscore significance establishing HICS protocol tailored unique demand COVID-19 pandemic . Such measure enhance communication channel also optimize resource allocation , ensure staff patient safety , sustain operational integrity . By integrating lesson learned enduring event , hospital fortify resilience adaptability confronting future crisis effectively .', \"Liverpool successfully fended late surge Tottenham Hotspur thrilling encounter , Mohamed Salah showcased brilliance two clinical strike secure vital 2-1 victory Jurgen Klopp 's side . The match , held north London , witnessed Liverpool 's resurgence Premier League 's top-four race following recent setback Nottingham Forest Leeds United . From outset , Liverpool demonstrated intent , swiftly taking lead courtesy Salah 's expertly placed finish bottom corner 11 minute game . Although Tottenham showed glimpse resurgence , including Ivan Perisic header deflected onto post penalty appeal waved away , Liverpool maintained momentum . Moments halftime , Eric Dier 's unfortunate miscue gifted Salah another opportunity , capitalized composed chip , notching ninth goal eight game . As second half commenced , Tottenham emerged renewed vigor , epitomized Harry Kane 's sublime strike 70th minute , assisted substitute Dejan Kulusevski . Despite Rodrigo Bentancur Kane threatening header , Liverpool 's defense held firm , denying Tottenham 's late surge . The victory marked Liverpools first away win Premier League season , propelling eighth place closing gap seven point behind fourth-placed Spurs , game hand .\", \"Based Fidelity 's Financial Resolutions survey , 's clear saving money top priority many individual , 43 % respondent expressing intention work towards goal new year . Building substantial nest egg offer numerous benefit , allowing individual finance major expense purchasing house , going vacation , hosting wedding , acquiring high-ticket item without resorting additional debt . Moreover , saving provides crucial safety net unexpected emergency expense . For seeking bolster saving upcoming year , initiating process modest contribution incredibly effective . Even transferring little $ 10 per week saving account lay groundwork cultivating habit saving . By starting small , individual develop discipline necessary consistently setting aside fund . This habit becomes particularly advantageous supplemented salary increase , bonus , gift money , individual already accustomed prioritizing saving inclined allocate additional fund accordingly . To streamline saving process mitigate risk procrastination , automating transfer saving account highly recommended . By setting automatic transfer , individual eliminate need actively make saving decision , thereby minimizing temptation divert fund discretionary spending . Most bank offer convenient option scheduling automatic transfer directly mobile application , making simple establish consistent saving routine . For keen accelerating growth saving , opting high-yield saving account present compelling opportunity . Unlike traditional saving account , high-yield saving account , Marcus Goldman Sachs Online Savings Account Ally Online Savings Account , offer attractive interest rate , enabling saver earn higher return deposit month . This heightened interest accumulation significantly enhance overall growth saving time , providing individual greater financial security flexibility achieving long-term goal .\"]\n"
          ]
        }
      ],
      "source": [
        "texts = [health_text, sports_text, finance_text]\n",
        "bow_keys = []\n",
        "corpus_texts = []\n",
        "for text in texts:\n",
        "    words  = word_tokenize(text)\n",
        "    texts = [lemmatizer.lemmatize(word) for word in words if word not in set(stopwords.words('english'))]\n",
        "    bow_keys += texts\n",
        "    text = ' '.join(texts)\n",
        "    corpus_texts.append(text)\n",
        "bow_keys = set(bow_keys)\n",
        "print(bow_keys)   #### Cleaned Data\n",
        "print(corpus_texts)   #### Cleaned Data"
      ]
    },
    {
      "cell_type": "markdown",
      "source": [
        "- membuat text baru yaitu \"new_text\" yang masuk kedalam kategori olahraga.\n",
        "\n",
        "- melakukan proses cleaning data pada \"new_text\" (Tokenisasi, lemetisasi, penghapusan stopwords)\n",
        "\n",
        "- Memastikan kata-kata dalam new_text adalah bagian dari daftar kata-kata unik (bow_keys) yang telah dibuat sebelumnya.\n",
        "\n",
        "- Menggunakan CountVectorizer dari scikit-learn untuk membuat representasi vektor dari teks yang telah dibersihkan. CountVectorizer menghitung frekuensi kemunculan kata-kata dalam setiap teks dan mengonversinya menjadi vektor.\n",
        "\n",
        "- Mencetak panjang vektor pertama dalam array, yang mengindikasikan jumlah fitur (kata-kata unik) dalam representasi vektor tersebut."
      ],
      "metadata": {
        "id": "1lG0JkLVKqTa"
      }
    },
    {
      "cell_type": "code",
      "source": [
        "new_text = \"Cristiano Ronaldo came off the bench to earn Manchester United a hard-fought 2-1 victory at Everton in the Premier League on Sunday, taking his career goal tally to 700 in the process. Just as United did last weekend in their derby mauling at the hands of local rivals Manchester City, they again found themselves behind early on at Goodison Park after Alex Iwobi curled a sublime strike into the net from 20 metres.\""
      ],
      "metadata": {
        "id": "KW8Qg06kUz37"
      },
      "execution_count": null,
      "outputs": []
    },
    {
      "cell_type": "code",
      "source": [
        "query_words = word_tokenize(new_text)\n",
        "query_words_clean = [lemmatizer.lemmatize(word) for word in query_words if word not in set(stopwords.words('english'))]\n",
        "query_words_corpus = [word for word in query_words_clean if word in set(bow_keys)]\n",
        "new_text_corpus = ' '.join(query_words_corpus)\n",
        "corpus_texts.append(new_text_corpus)\n",
        "\n",
        "from sklearn.feature_extraction.text import CountVectorizer\n",
        "cv = CountVectorizer() ## Creating Object for CountVectorizer\n",
        "bow_vectors = cv.fit_transform(corpus_texts).toarray()\n",
        "print(bow_vectors)\n",
        "print(len(bow_vectors[0]))"
      ],
      "metadata": {
        "colab": {
          "base_uri": "https://localhost:8080/"
        },
        "id": "f2LBoyyO12JH",
        "outputId": "836c18f2-c295-438b-d46e-3ccb65d22dde"
      },
      "execution_count": null,
      "outputs": [
        {
          "output_type": "stream",
          "name": "stdout",
          "text": [
            "[[0 0 3 ... 0 0 0]\n",
            " [0 1 0 ... 0 0 0]\n",
            " [1 0 0 ... 1 2 2]\n",
            " ...\n",
            " [0 0 0 ... 0 0 0]\n",
            " [0 0 0 ... 1 0 0]\n",
            " [0 0 0 ... 0 0 0]]\n",
            "425\n"
          ]
        }
      ]
    },
    {
      "cell_type": "markdown",
      "source": [
        "- melakukan normalisasi pada Bag Of Word yang sudah dikumpulkan, Normalisasi dilakukan dengan membagi setiap vektor oleh panjangnya (norma Euclidean)\n",
        "\n",
        "  Normalisasi dilakukan untuk memastikan bahwa panjang vektor BoW tidak mempengaruhi perhitungan kemiripan antar teks.\n",
        "\n",
        "- Menghitung kemiripan antara vektor normalisasi teks query (indeks ke-3 dalam bow_texts_norm) dengan vektor normalisasi dari setiap kategori (3 teks pertama dalam bow_texts_norm) menggunakan Dot Product.\n",
        "\n",
        "- Mencari indeks dengan nilai kemiripan tertinggi dalam similarity_vector. lalu berdasarkan hasil nilai kemiripan maka akan dicetak hasil klasifikasi."
      ],
      "metadata": {
        "id": "bwG6h77yL1qe"
      }
    },
    {
      "cell_type": "code",
      "source": [
        "# Normalize the BoW vectors\n",
        "bow_texts_norm = []\n",
        "for bow in bow_vectors:\n",
        "  length = (sum(i*i for i in bow)) ** 0.5\n",
        "  bow_norm = bow / length\n",
        "  bow_texts_norm.append(bow_norm)\n",
        "\n",
        "# Compute similarity using dot product\n",
        "similarity_vector = []\n",
        "bow_norm_query = bow_texts_norm[3]\n",
        "for bow in bow_texts_norm[:3]:\n",
        "  similarity_vector.append(sum(i*j for i,j in zip(bow,bow_norm_query)))\n",
        "print(similarity_vector)\n",
        "\n",
        "# Find the highest similarity\n",
        "id_max_sim = similarity_vector.index(max(similarity_vector))\n",
        "if (id_max_sim == 0):\n",
        "  print (\"The query text is classified as: Health\")\n",
        "elif (id_max_sim == 1):\n",
        "  print (\"The query text is classified as: Sport\")\n",
        "elif (id_max_sim == 2):\n",
        "  print (\"The query text is classified as: Finance\")"
      ],
      "metadata": {
        "colab": {
          "base_uri": "https://localhost:8080/"
        },
        "id": "x0h-Aro72DtI",
        "outputId": "b57a2507-6de2-458a-c1ba-83ce7772881f"
      },
      "execution_count": null,
      "outputs": [
        {
          "output_type": "stream",
          "name": "stdout",
          "text": [
            "[0.0, 0.24999999999999997, 0.06310547428675069]\n",
            "The query text is classified as: Sport\n"
          ]
        }
      ]
    },
    {
      "cell_type": "markdown",
      "source": [
        "#Penggunaan Function dalam Klasifikasi NLP"
      ],
      "metadata": {
        "id": "1XNa6vTWFaP4"
      }
    },
    {
      "cell_type": "code",
      "source": [
        "def clean_text(text):\n",
        "    lemmatizer = WordNetLemmatizer()\n",
        "    stop_words = set(stopwords.words('english'))\n",
        "    words = word_tokenize(text)\n",
        "    cleaned_words = [lemmatizer.lemmatize(word) for word in words if word not in stop_words]\n",
        "    return ' '.join(cleaned_words)"
      ],
      "metadata": {
        "id": "sy0bFXXSFiPt"
      },
      "execution_count": null,
      "outputs": []
    },
    {
      "cell_type": "code",
      "source": [
        "def predict_topic(text_sport, text_medical, text_finance, query_data):\n",
        "    clean_sport = clean_text(text_sport)\n",
        "    clean_medical = clean_text(text_medical)\n",
        "    clean_finance = clean_text(text_finance)\n",
        "\n",
        "    corpus_texts = [clean_sport, clean_medical, clean_finance]\n",
        "\n",
        "    corpus_texts.append(clean_text(query_data))\n",
        "\n",
        "    cv = CountVectorizer()\n",
        "    bow_vectors = cv.fit_transform(corpus_texts).toarray()\n",
        "\n",
        "    bow_texts_norm = []\n",
        "    for bow in bow_vectors:\n",
        "        length = np.sqrt(np.sum(np.square(bow)))\n",
        "        bow_norm = bow / length\n",
        "        bow_texts_norm.append(bow_norm)\n",
        "\n",
        "    similarity_vector = []\n",
        "    bow_norm_query = bow_texts_norm[-1]  # Query data is the last element\n",
        "    for bow in bow_texts_norm[:-1]:  # Exclude the query data\n",
        "        similarity_vector.append(np.dot(bow, bow_norm_query))\n",
        "\n",
        "    # Find the highest similarity\n",
        "    id_max_sim = np.argmax(similarity_vector)\n",
        "    if id_max_sim == 0:\n",
        "        return \"The query text is classified as: Sport\"\n",
        "    elif id_max_sim == 1:\n",
        "        return \"The query text is classified as: Medical\"\n",
        "    elif id_max_sim == 2:\n",
        "        return \"The query text is classified as: Finance\""
      ],
      "metadata": {
        "id": "pWziIDiXFl74"
      },
      "execution_count": null,
      "outputs": []
    },
    {
      "cell_type": "code",
      "source": [
        "# Test your function!\n",
        "\n",
        "# Training Data\n",
        "text_sport = \"Liverpool held off a late charge from Tottenham after Mohamed Salah struck twice to win 2-1 in north London and lift themselves back into the Premier League top-four race. Jurgen Klopp side had suffered shock defeats to relegation-threatened pair Nottingham Forest and Leeds in their last two league outings but started fast against Spurs, with a sharp touch and finish into the bottom corner from in-form Salah giving them the lead on 11 minutes. Ivan Perisic had a header deflected onto the post by Liverpool goalkeeper Alisson and Ryan Sessegnon saw a penalty shout from a challenge by Trent Alexander-Arnold waved away as Spurs came to life - but the Reds struck again just before the break thanks to a gift from Eric Dier. The centre-back miscued a header towards his own goal and Salah (40) raced through to chip in his ninth goal in eight games. Tottenham were sent out early for the second half and - not for the first time this season - were better after the break, with Alisson again pushing a Perisic effort onto the woodwork before Harry Kane (70) fired home a brilliant strike when played in by sub Dejan Kulusevski. Rodrigo Bentancur went close with a couple of headers and Kane glanced wide as Spurs desperately sought another late goal but Liverpool clung on for their first away win in the Premier League this season to move up to eighth and within seven points of fourth-placed Spurs, with a game in hand.\"\n",
        "text_medical =  \"There is growing popularity of the Hospital Incident Command System (HICS) as an organizational tool for hospital management in the COVID-19 pandemic. We specifically describe implementation of HICS at the Isfahan province reference hospital (Isabn-e-Maryam) during the COVID-19 pandemic and try to explore performance of it. Methods: To document the actions taken during the COVID-19 pandemic, standard, open-ended interviews were conducted with individuals occupying activated HICS leadership positions during the event. A checklist based on the job action sheets of the HICS was used for performance assessment. Results: With the onset of the pandemic, hospital director revised ICS structure that adheres to span of better control of COVID-19. Methods of expanding hospital inpatient capacity to enable surge capacity were considered. The highest performance score was in the field of planning. Performance was intermediate in Financial/Administration section and good in other fields. Discussion: In the current COVID-19 pandemic, establishing HICS with some consideration about long-standing events can help improve communication, resource use, staff and patient protection, and maintenance of roles.\"\n",
        "text_finance = \"According to Fidelity’s Financial Resolutions survey, saving more money was the number one-resolution for respondents. Close to half (43%) said this was a goal they wanted to work toward in the new year. Building a nest egg can help you pay for big ticket items — like a house, a vacation, a wedding or even just an expensive item you really want — without taking on additional debt. Having savings can also come in handy if an emergency expense comes up. If you’re looking to increase your savings in the new year, it helps to start small — even if you’re only transferring $10 a week into your savings account. Starting small helps you build a muscle for saving. This way, when you receive salary bumps, bonuses and gift money, you’ve already gotten into the habit of saving, and you’ll be more likely to transfer that money to your savings account. You may also want to consider automating that process instead of just manually moving money into your savings. Relying on manual transfers leaves a lot of room for procrastination — and before we know it, we’ve spent the money we intended to save. But when you set up automatic transfers into your savings account, you take away the need to make that decision altogether. You can usually schedule automatic transfers through your bank’s mobile app. Lastly, if you want to see your savings grow just a little faster, you can opt for a high-yield savings account instead of a traditional savings account. High-yield savings accounts — like the Marcus by Goldman Sachs Online Savings Account or the Ally Online Savings Account — pay you more in interest each month compared to traditional savings accounts.\"\n",
        "\n",
        "# Testing Data\n",
        "query_data = \"\"\"Cristiano Ronaldo came off the bench to earn Manchester United a hard-fought 2-1 victory at Everton in the Premier League on Sunday, taking his career goal tally to 700 in the process. Just as United did last weekend in their derby mauling at the hands of local rivals Manchester City, they again found themselves behind early on at Goodison Park after Alex Iwobi curled a sublime strike into the net from 20 metres.\"\"\""
      ],
      "metadata": {
        "id": "bU5gb-P4FnT9"
      },
      "execution_count": null,
      "outputs": []
    },
    {
      "cell_type": "code",
      "source": [
        "predict_topic(text_sport, text_medical, text_finance, query_data)"
      ],
      "metadata": {
        "colab": {
          "base_uri": "https://localhost:8080/",
          "height": 36
        },
        "id": "L4Hsh2A1Fuqo",
        "outputId": "9cba1758-6239-4884-8d4b-524a6ab376e0"
      },
      "execution_count": null,
      "outputs": [
        {
          "output_type": "execute_result",
          "data": {
            "text/plain": [
              "'The query text is classified as: Sport'"
            ],
            "application/vnd.google.colaboratory.intrinsic+json": {
              "type": "string"
            }
          },
          "metadata": {},
          "execution_count": 22
        }
      ]
    }
  ]
}